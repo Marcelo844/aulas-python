{
 "cells": [
  {
   "cell_type": "markdown",
   "id": "b057f335",
   "metadata": {},
   "source": [
    "# Exercício 1: Peça ao usuário um número e diga se ele é par ou ímpar."
   ]
  },
  {
   "cell_type": "code",
   "execution_count": 2,
   "id": "e1fd0c38",
   "metadata": {},
   "outputs": [
    {
     "name": "stdout",
     "output_type": "stream",
     "text": [
      "O Número é Impar\n"
     ]
    }
   ],
   "source": [
    "num = int(input(\"Digite um número:\"))\n",
    "if num % 2 == 0:\n",
    "    print(\"O Número é par\")\n",
    "else:\n",
    "    print(\"O Número é Impar\")"
   ]
  },
  {
   "cell_type": "markdown",
   "id": "0f51e595",
   "metadata": {},
   "source": [
    "# Exercício 2: Leia a idade de uma pessoa e informe se ela é menor de idade, adulta ou idosa (>= 60)."
   ]
  },
  {
   "cell_type": "code",
   "execution_count": 5,
   "id": "b8bff903",
   "metadata": {},
   "outputs": [
    {
     "name": "stdout",
     "output_type": "stream",
     "text": [
      "Menor de Idade\n"
     ]
    }
   ],
   "source": [
    "idade = int(input(\"Digite sua idade:\"))\n",
    "if idade < 18:\n",
    "    print(\"Menor de Idade\")\n",
    "elif idade >= 18 and idade <= 60:\n",
    "    print(\"Adulto\")\n",
    "elif idade > 60:\n",
    "    print(\"Idosa\")"
   ]
  },
  {
   "cell_type": "markdown",
   "id": "d14c3125",
   "metadata": {},
   "source": [
    "# Exercício 3: Peça duas notas e calcule a média. Diga se o aluno está aprovado (média >= 7)."
   ]
  },
  {
   "cell_type": "code",
   "execution_count": 11,
   "id": "9a1481a7",
   "metadata": {},
   "outputs": [
    {
     "name": "stdout",
     "output_type": "stream",
     "text": [
      "7.5\n"
     ]
    }
   ],
   "source": [
    "n1 = float(input(\"Digite uma nota:\"))\n",
    "n2 = float(input(\"Digite a segunda nota:\"))\n",
    "media = 0\n",
    "\n",
    "media = (n1 + n2)/2\n",
    "\n",
    "print(media)"
   ]
  },
  {
   "cell_type": "markdown",
   "id": "fbd11a3d",
   "metadata": {},
   "source": [
    "# Exercício 4: Solicite o nome de uma pessoa e diga se ele começa com a letra 'A'."
   ]
  },
  {
   "cell_type": "code",
   "execution_count": 13,
   "id": "4472f0d7",
   "metadata": {},
   "outputs": [
    {
     "name": "stdout",
     "output_type": "stream",
     "text": [
      "Seu nome não começa com A\n"
     ]
    }
   ],
   "source": [
    "nome= input(\"Digite seu nome:\")\n",
    "if nome.startswith(\"A\") or nome.startswith(\"a\"):\n",
    "    print(\"Seu nome começa com A\")\n",
    "else:\n",
    "    print(\"Seu nome não começa com A\")"
   ]
  },
  {
   "cell_type": "markdown",
   "id": "9a6ecffb",
   "metadata": {},
   "source": [
    "# Exercício 5: Peça um número inteiro e verifique se ele é positivo, negativo ou zero."
   ]
  },
  {
   "cell_type": "code",
   "execution_count": 17,
   "id": "78453c72",
   "metadata": {},
   "outputs": [
    {
     "name": "stdout",
     "output_type": "stream",
     "text": [
      "Negativo\n"
     ]
    }
   ],
   "source": [
    "num = int(input(\"Digite um número:\"))\n",
    "if num > 0:\n",
    "    print(\"Positivo\")\n",
    "elif num < 0:\n",
    "    print(\"Negativo\")\n",
    "elif num == 0:\n",
    "    print(\"ZERO\")"
   ]
  },
  {
   "cell_type": "markdown",
   "id": "ed41b4ca",
   "metadata": {},
   "source": [
    "# Exercício 6: Imprima os números de 1 a 10 com for."
   ]
  },
  {
   "cell_type": "code",
   "execution_count": 18,
   "id": "efb34a6c",
   "metadata": {},
   "outputs": [
    {
     "name": "stdout",
     "output_type": "stream",
     "text": [
      "1\n",
      "2\n",
      "3\n",
      "4\n",
      "5\n",
      "6\n",
      "7\n",
      "8\n",
      "9\n",
      "10\n"
     ]
    }
   ],
   "source": [
    "for i in range (10): \n",
    "    print(i+1)"
   ]
  },
  {
   "cell_type": "markdown",
   "id": "83163c5e",
   "metadata": {},
   "source": [
    "# Exercício 7: Imprima os números de 10 a 1 com while."
   ]
  },
  {
   "cell_type": "code",
   "execution_count": 20,
   "id": "28c47327",
   "metadata": {},
   "outputs": [
    {
     "name": "stdout",
     "output_type": "stream",
     "text": [
      "10\n",
      "9\n",
      "8\n",
      "7\n",
      "6\n",
      "5\n",
      "4\n",
      "3\n",
      "2\n",
      "1\n"
     ]
    }
   ],
   "source": [
    "i = 10\n",
    "while i>=1:\n",
    "    print(i)\n",
    "    i-=1"
   ]
  },
  {
   "cell_type": "markdown",
   "id": "408ae015",
   "metadata": {},
   "source": [
    "# Exercício 8: Calcule a soma dos números de 1 a 100."
   ]
  },
  {
   "cell_type": "code",
   "execution_count": 24,
   "id": "b6835c14",
   "metadata": {},
   "outputs": [
    {
     "name": "stdout",
     "output_type": "stream",
     "text": [
      "5050\n"
     ]
    }
   ],
   "source": [
    "soma=0\n",
    "for i in range (1,101):\n",
    "    soma+=i\n",
    "\n",
    "\n",
    "print(soma)"
   ]
  },
  {
   "cell_type": "markdown",
   "id": "ec740a27",
   "metadata": {},
   "source": [
    "# Exercício 9: Peça 5 números ao usuário e diga qual é o maior."
   ]
  },
  {
   "cell_type": "code",
   "execution_count": 25,
   "id": "c4e65c0a",
   "metadata": {},
   "outputs": [
    {
     "name": "stdout",
     "output_type": "stream",
     "text": [
      "O maior número digitado foi: 10\n"
     ]
    }
   ],
   "source": [
    "numeros = []\n",
    "for _ in range(5):\n",
    "    numero = int(input(\"Digite um número: \"))\n",
    "    numeros.append(numero)\n",
    "\n",
    "maior = max(numeros)\n",
    "print(\"O maior número digitado foi:\", maior)"
   ]
  },
  {
   "cell_type": "markdown",
   "id": "3916a505",
   "metadata": {},
   "source": [
    "# Exercício 10: Peça números ao usuário até que ele digite 0, e então exiba a média dos valores digitados."
   ]
  },
  {
   "cell_type": "code",
   "execution_count": 27,
   "id": "a7c8729f",
   "metadata": {},
   "outputs": [
    {
     "name": "stdout",
     "output_type": "stream",
     "text": [
      "A média dos valores digitados é: 5.833333333333333\n"
     ]
    }
   ],
   "source": [
    "### Exercício 10: Peça números ao usuário até que ele digite 0, e então exiba a média dos valores digitados.\n",
    "num = int(input(\"Digite um número (0 para sair): \"))\n",
    "soma = 0\n",
    "contador = 0\n",
    "while num != 0:\n",
    "    soma += num\n",
    "    contador += 1\n",
    "    num = int(input(\"Digite um número (0 para sair): \"))\n",
    "if contador > 0:\n",
    "    media = soma / contador\n",
    "    print(\"A média dos valores digitados é:\", media)"
   ]
  },
  {
   "cell_type": "markdown",
   "id": "5178e752",
   "metadata": {},
   "source": [
    "# Exercício 11: Crie uma lista com 5 números digitados pelo usuário e imprima a lista."
   ]
  },
  {
   "cell_type": "code",
   "execution_count": 2,
   "id": "5f40ed1a",
   "metadata": {},
   "outputs": [
    {
     "name": "stdout",
     "output_type": "stream",
     "text": [
      "A lista digitada foi: [1, 2, 3, 4, 5]\n"
     ]
    }
   ],
   "source": [
    "lista_numeros = []\n",
    "for _ in range(5):\n",
    "    numero = int(input(\"Digite um número: \"))\n",
    "    lista_numeros.append(numero)\n",
    "\n",
    "print(\"A lista digitada foi:\", lista_numeros)"
   ]
  },
  {
   "cell_type": "markdown",
   "id": "0983311d",
   "metadata": {},
   "source": [
    "# Exercício 12: Some todos os elementos de uma lista."
   ]
  },
  {
   "cell_type": "code",
   "execution_count": 4,
   "id": "5f5d23a3",
   "metadata": {},
   "outputs": [
    {
     "name": "stdout",
     "output_type": "stream",
     "text": [
      "A soma dos elementos da lista é: 15\n"
     ]
    }
   ],
   "source": [
    "soma_lista = sum(lista_numeros)\n",
    "print(\"A soma dos elementos da lista é:\", soma_lista)"
   ]
  },
  {
   "cell_type": "markdown",
   "id": "84c598b8",
   "metadata": {},
   "source": [
    "# Exercício 13: Encontre o maior e o menor valor de uma lista."
   ]
  },
  {
   "cell_type": "code",
   "execution_count": 5,
   "id": "ceb0f310",
   "metadata": {},
   "outputs": [
    {
     "name": "stdout",
     "output_type": "stream",
     "text": [
      "Maior valor da lista: 5\n",
      "Menor valor da lista: 1\n"
     ]
    }
   ],
   "source": [
    "maior_valor = max(lista_numeros)\n",
    "menor_valor = min(lista_numeros)\n",
    "print(\"Maior valor da lista:\", maior_valor)\n",
    "print(\"Menor valor da lista:\", menor_valor)"
   ]
  },
  {
   "cell_type": "markdown",
   "id": "b3401528",
   "metadata": {},
   "source": [
    "# Exercício 14: Conte quantos números pares existem em uma lista."
   ]
  },
  {
   "cell_type": "code",
   "execution_count": 6,
   "id": "1b87a5ce",
   "metadata": {},
   "outputs": [
    {
     "name": "stdout",
     "output_type": "stream",
     "text": [
      "Quantidade de números pares na lista: 2\n"
     ]
    }
   ],
   "source": [
    "quantidade_pares = sum(1 for num in lista_numeros if num % 2 == 0)\n",
    "print(\"Quantidade de números pares na lista:\", quantidade_pares)"
   ]
  },
  {
   "cell_type": "markdown",
   "id": "f5ff5c1b",
   "metadata": {},
   "source": [
    "# Exercício 15: Peça uma lista de nomes e diga quantos começam com a letra 'M'."
   ]
  },
  {
   "cell_type": "code",
   "execution_count": 7,
   "id": "76400be8",
   "metadata": {},
   "outputs": [
    {
     "name": "stdout",
     "output_type": "stream",
     "text": [
      "Quantidade de nomes que começam com 'M': 1\n"
     ]
    }
   ],
   "source": [
    "nomes = input(\"Digite os nomes separados por vírgula: \").split(\",\")\n",
    "\n",
    "quantidade_m = sum(1 for nome in nomes if nome.strip().startswith(\"M\") or nome.strip().startswith(\"m\"))\n",
    "\n",
    "print(\"Quantidade de nomes que começam com 'M':\", quantidade_m)"
   ]
  },
  {
   "cell_type": "markdown",
   "id": "72d0dc42",
   "metadata": {},
   "source": [
    "# Desafio 1: Peça ao usuário uma quantidade de alunos e, para cada um, o nome e duas notas. Armazene em listas e exiba a média de cada aluno."
   ]
  },
  {
   "cell_type": "code",
   "execution_count": 8,
   "id": "c7ac75b2",
   "metadata": {},
   "outputs": [
    {
     "name": "stdout",
     "output_type": "stream",
     "text": [
      "Marcelo - Média: 5.0\n",
      "Bruno - Média: 10.0\n",
      "Eduarda - Média: 7.0\n"
     ]
    }
   ],
   "source": [
    "quantidade_alunos = int(input(\"Digite a quantidade de alunos: \"))\n",
    "nomes_alunos = []\n",
    "notas1 = []\n",
    "notas2 = []\n",
    "medias = []\n",
    "\n",
    "for i in range(quantidade_alunos):\n",
    "    nome = input(f\"Digite o nome do aluno {i+1}: \")\n",
    "    nota1 = float(input(f\"Digite a primeira nota de {nome}: \"))\n",
    "    nota2 = float(input(f\"Digite a segunda nota de {nome}: \"))\n",
    "    nomes_alunos.append(nome)\n",
    "    notas1.append(nota1)\n",
    "    notas2.append(nota2)\n",
    "    media = (nota1 + nota2) / 2\n",
    "    medias.append(media)\n",
    "\n",
    "for i in range(quantidade_alunos):\n",
    "    print(f\"{nomes_alunos[i]} - Média: {medias[i]}\")"
   ]
  },
  {
   "cell_type": "markdown",
   "id": "27300b0d",
   "metadata": {},
   "source": [
    "# Desafio 2: Gere uma lista com os números de 1 a 20, mas apenas os múltiplos de 3."
   ]
  },
  {
   "cell_type": "code",
   "execution_count": 9,
   "id": "30371484",
   "metadata": {},
   "outputs": [
    {
     "name": "stdout",
     "output_type": "stream",
     "text": [
      "Múltiplos de 3 entre 1 e 20: [3, 6, 9, 12, 15, 18]\n"
     ]
    }
   ],
   "source": [
    "multiplos_de_3 = [num for num in range(1, 21) if num % 3 == 0]\n",
    "print(\"Múltiplos de 3 entre 1 e 20:\", multiplos_de_3)"
   ]
  },
  {
   "cell_type": "markdown",
   "id": "1505ef2a",
   "metadata": {},
   "source": [
    "# Desafio 3: Peça ao usuário 10 números e exiba quais são primos."
   ]
  },
  {
   "cell_type": "code",
   "execution_count": 10,
   "id": "58dcb059",
   "metadata": {},
   "outputs": [
    {
     "name": "stdout",
     "output_type": "stream",
     "text": [
      "Números primos digitados: [5, 3, 2, 5, 7, 5]\n"
     ]
    }
   ],
   "source": [
    "numeros = []\n",
    "for _ in range(10):\n",
    "    n = int(input(\"Digite um número: \"))\n",
    "    numeros.append(n)\n",
    "\n",
    "def eh_primo(num):\n",
    "    if num < 2:\n",
    "        return False\n",
    "    for i in range(2, int(num**0.5)+1):\n",
    "        if num % i == 0:\n",
    "            return False\n",
    "    return True\n",
    "\n",
    "primos = [n for n in numeros if eh_primo(n)]\n",
    "print(\"Números primos digitados:\", primos)"
   ]
  },
  {
   "cell_type": "markdown",
   "id": "d1f38556",
   "metadata": {},
   "source": [
    "# Desafio 4: Dada uma lista de números, crie uma nova lista apenas com os valores únicos (sem repetições)."
   ]
  },
  {
   "cell_type": "code",
   "execution_count": 11,
   "id": "1babc947",
   "metadata": {},
   "outputs": [
    {
     "name": "stdout",
     "output_type": "stream",
     "text": [
      "Lista de valores únicos: [2, 3, 4, 5, 6, 7]\n"
     ]
    }
   ],
   "source": [
    "valores_unicos = list(set(numeros))\n",
    "print(\"Lista de valores únicos:\", valores_unicos)"
   ]
  },
  {
   "cell_type": "markdown",
   "id": "9e3f4031",
   "metadata": {},
   "source": [
    "# Desafio 5: Crie um programa que simula um menu de opções (ex: cadastrar item, listar itens, sair), usando while e if."
   ]
  },
  {
   "cell_type": "code",
   "execution_count": 12,
   "id": "6098900f",
   "metadata": {},
   "outputs": [
    {
     "name": "stdout",
     "output_type": "stream",
     "text": [
      "\n",
      "Menu de Opções:\n",
      "1 - Cadastrar item\n",
      "2 - Listar itens\n",
      "3 - Sair\n",
      "Item cadastrado com sucesso!\n",
      "\n",
      "Menu de Opções:\n",
      "1 - Cadastrar item\n",
      "2 - Listar itens\n",
      "3 - Sair\n",
      "Itens cadastrados:\n",
      "1. Mouse\n",
      "\n",
      "Menu de Opções:\n",
      "1 - Cadastrar item\n",
      "2 - Listar itens\n",
      "3 - Sair\n",
      "Saindo do programa.\n"
     ]
    }
   ],
   "source": [
    "itens = []\n",
    "\n",
    "while True:\n",
    "    print(\"\\nMenu de Opções:\")\n",
    "    print(\"1 - Cadastrar item\")\n",
    "    print(\"2 - Listar itens\")\n",
    "    print(\"3 - Sair\")\n",
    "    opcao = input(\"Escolha uma opção: \")\n",
    "\n",
    "    if opcao == \"1\":\n",
    "        item = input(\"Digite o nome do item para cadastrar: \")\n",
    "        itens.append(item)\n",
    "        print(\"Item cadastrado com sucesso!\")\n",
    "    elif opcao == \"2\":\n",
    "        if itens:\n",
    "            print(\"Itens cadastrados:\")\n",
    "            for idx, item in enumerate(itens, 1):\n",
    "                print(f\"{idx}. {item}\")\n",
    "        else:\n",
    "            print(\"Nenhum item cadastrado.\")\n",
    "    elif opcao == \"3\":\n",
    "        print(\"Saindo do programa.\")\n",
    "        break\n",
    "    else:\n",
    "        print(\"Opção inválida. Tente novamente.\")"
   ]
  }
 ],
 "metadata": {
  "kernelspec": {
   "display_name": "Python 3",
   "language": "python",
   "name": "python3"
  },
  "language_info": {
   "codemirror_mode": {
    "name": "ipython",
    "version": 3
   },
   "file_extension": ".py",
   "mimetype": "text/x-python",
   "name": "python",
   "nbconvert_exporter": "python",
   "pygments_lexer": "ipython3",
   "version": "3.11.9"
  }
 },
 "nbformat": 4,
 "nbformat_minor": 5
}
