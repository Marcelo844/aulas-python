{
 "cells": [
  {
   "cell_type": "markdown",
   "id": "809ebef4",
   "metadata": {},
   "source": [
    "# Usando o Counter"
   ]
  },
  {
   "cell_type": "code",
   "execution_count": 3,
   "id": "299f09c7",
   "metadata": {},
   "outputs": [
    {
     "name": "stdout",
     "output_type": "stream",
     "text": [
      "Counter({1: 1, 2: 1, 3: 1, 4: 1, 5: 1, 6: 1})\n",
      "1\n"
     ]
    }
   ],
   "source": [
    "from collections import Counter\n",
    "lista = {1,1,2,3,4,4,1,5,5,6}\n",
    "contador = Counter(lista)\n",
    "print(contador)\n",
    "print(contador.get(1, 'Chave não encontrada'))"
   ]
  },
  {
   "cell_type": "code",
   "execution_count": 4,
   "id": "95f1c745",
   "metadata": {},
   "outputs": [
    {
     "name": "stdout",
     "output_type": "stream",
     "text": [
      "Counter({'t': 2, 'e': 2, 's': 1})\n"
     ]
    }
   ],
   "source": [
    "palavra = 'teste'\n",
    "letras = Counter(palavra)\n",
    "print(letras)"
   ]
  },
  {
   "cell_type": "markdown",
   "id": "b0aeed95",
   "metadata": {},
   "source": [
    "### Utilizando o Update"
   ]
  },
  {
   "cell_type": "code",
   "execution_count": 5,
   "id": "261ddf81",
   "metadata": {},
   "outputs": [
    {
     "name": "stdout",
     "output_type": "stream",
     "text": [
      "Counter({'t': 4, 'e': 3, 's': 2, 'a': 1, 'n': 1, 'd': 1, 'o': 1})\n"
     ]
    }
   ],
   "source": [
    "letras.update('testando')\n",
    "print(letras)"
   ]
  },
  {
   "cell_type": "code",
   "execution_count": 4,
   "id": "e26885f6",
   "metadata": {},
   "outputs": [
    {
     "name": "stdout",
     "output_type": "stream",
     "text": [
      "Soma c1 + c2:\n",
      "Counter({'a': 4, 'b': 3, 'c': 3})\n",
      "Subtração c1 - c2:\n",
      "Counter({'a': 2})\n",
      "Subtração c2 - c1:\n",
      "Counter({'c': 3, 'b': 1})\n",
      "Menores contagens entre os dois Counters\n",
      "Counter({'a': 1, 'b': 1})\n",
      "Maiores contagens entre os dois Counters\n",
      "Counter({'a': 3, 'c': 3, 'b': 2})\n"
     ]
    }
   ],
   "source": [
    "from collections import Counter\n",
    "\n",
    "c1 = Counter(a=3, b=1)\n",
    "c2 = Counter(a=1, b=2, c=3)\n",
    "\n",
    "print(\"Soma c1 + c2:\")\n",
    "print(c1 + c2)\n",
    "\n",
    "print(\"Subtração c1 - c2:\")\n",
    "print(c1 - c2)\n",
    "\n",
    "print(\"Subtração c2 - c1:\")\n",
    "print(c2 - c1)\n",
    "\n",
    "# Minimo de contagens entre os dois Counters(menores)\n",
    "print('Menores contagens entre os dois Counters')\n",
    "print(c1 & c2)\n",
    "\n",
    "# Minimo de contagens entre os dois Counters(maiores)\n",
    "print('Maiores contagens entre os dois Counters')\n",
    "print(c1 | c2)"
   ]
  },
  {
   "cell_type": "markdown",
   "id": "31f85a37",
   "metadata": {},
   "source": [
    "# Conjuntos"
   ]
  },
  {
   "cell_type": "code",
   "execution_count": 1,
   "id": "f9cb6881",
   "metadata": {},
   "outputs": [
    {
     "name": "stdout",
     "output_type": "stream",
     "text": [
      "{1, 2, 3, 4, 5}\n",
      "{1, 2, 3, 4, 5}\n"
     ]
    }
   ],
   "source": [
    "# Não permite valores duplicados\n",
    "conjunto = {1,2,3,4,5}\n",
    "print(conjunto)\n",
    "conjunto = set([1,2,3,4,5,5,5,5,5,5])\n",
    "print(conjunto)"
   ]
  },
  {
   "cell_type": "code",
   "execution_count": 2,
   "id": "14b3311e",
   "metadata": {},
   "outputs": [
    {
     "name": "stdout",
     "output_type": "stream",
     "text": [
      "{1, 2, 3, 4, 5, 6}\n",
      "{3, 4}\n"
     ]
    }
   ],
   "source": [
    "c1 = conjunto = {1,2,3,4}\n",
    "c2 = conjunto = {3,4,5,6}\n",
    "#União de dois conjuntos\n",
    "print(c1 | c2)\n",
    "#Interseção de dois conjuntos\n",
    "print(c1 & c2)"
   ]
  },
  {
   "cell_type": "code",
   "execution_count": null,
   "id": "61e5dd9e",
   "metadata": {},
   "outputs": [
    {
     "name": "stdout",
     "output_type": "stream",
     "text": [
      "{1, 2}\n",
      "{5, 6}\n"
     ]
    }
   ],
   "source": [
    "c1 = conjunto = {1,2,3,4}\n",
    "c2 = conjunto = {3,4,5,6}\n",
    "#Diferença de dois conjuntos (Valores que estão em c1 e não estão em c2)\n",
    "c3 = c1 - c2\n",
    "print(c3)\n",
    "\n",
    "#Diferença de dois conjuntos (Valores que estão em c2 e não estão em c1)\n",
    "c4 = c2 - c1\n",
    "print(c4)"
   ]
  },
  {
   "cell_type": "code",
   "execution_count": 4,
   "id": "08dc6037",
   "metadata": {},
   "outputs": [
    {
     "name": "stdout",
     "output_type": "stream",
     "text": [
      "{1, 2, 5, 6}\n"
     ]
    }
   ],
   "source": [
    "c1 = conjunto = {1,2,3,4}\n",
    "c2 = conjunto = {3,4,5,6}\n",
    "#Obtendo os elementos que estão em c1 ou em c2, mas não em ambos\n",
    "c5 = c1 ^ c2\n",
    "print(c5)"
   ]
  },
  {
   "cell_type": "markdown",
   "id": "57c5d81f",
   "metadata": {},
   "source": [
    "# Strings"
   ]
  },
  {
   "cell_type": "code",
   "execution_count": 17,
   "id": "a6c0b222",
   "metadata": {},
   "outputs": [
    {
     "name": "stdout",
     "output_type": "stream",
     "text": [
      "aula de programação e o bernardo está dormindo\n",
      "Aula de programação e o bernardo está dormindo\n",
      "Aula De Programação E O Bernardo Está Dormindo\n"
     ]
    }
   ],
   "source": [
    "frase = 'aula de programação e o bernardo está dormindo'\n",
    "print(frase)\n",
    "\n",
    "# Coloca a primeira letra em maiúsculo\n",
    "print(frase.capitalize())\n",
    "\n",
    "# Coloca todas as letras em maiúsculo\n",
    "print(frase.title())"
   ]
  },
  {
   "cell_type": "code",
   "execution_count": 18,
   "id": "3e307dcd",
   "metadata": {},
   "outputs": [
    {
     "name": "stdout",
     "output_type": "stream",
     "text": [
      "      teste       \n",
      "teste\n",
      "teste       \n",
      "      teste\n"
     ]
    }
   ],
   "source": [
    "# Remove espaços em branco do início e do fim\n",
    "palavra = '      teste       '\n",
    "print(palavra)\n",
    "print(palavra.strip())\n",
    "\n",
    "print(palavra.lstrip()) # Remove espaços à esquerda\n",
    "print(palavra.rstrip()) # Remove espaços à direita"
   ]
  },
  {
   "cell_type": "code",
   "execution_count": 20,
   "id": "27743e42",
   "metadata": {},
   "outputs": [
    {
     "name": "stdout",
     "output_type": "stream",
     "text": [
      "8\n",
      "aula de programação e o diogo está dormindo\n"
     ]
    }
   ],
   "source": [
    "print(frase.find('programação')) # Retorna a posição inicial da palavra\n",
    "\n",
    "frase = frase.replace('bernardo', 'diogo') # Substitui uma palavra por outra\n",
    "print(frase)"
   ]
  },
  {
   "cell_type": "code",
   "execution_count": null,
   "id": "108f1ae2",
   "metadata": {},
   "outputs": [
    {
     "name": "stdout",
     "output_type": "stream",
     "text": [
      "abcdef is alpha True\n"
     ]
    }
   ],
   "source": [
    "# Verifica se todos os caracteres são alfanuméricos\n",
    "letras = 'abcdef'\n",
    "print(f'{letras} is alpha {letras.isalpha()}')"
   ]
  },
  {
   "cell_type": "code",
   "execution_count": 25,
   "id": "65620006",
   "metadata": {},
   "outputs": [
    {
     "name": "stdout",
     "output_type": "stream",
     "text": [
      "1234577 is digit True\n"
     ]
    }
   ],
   "source": [
    "numeros = '1234577'\n",
    "print(f'{numeros} is digit {numeros.isdigit()}')"
   ]
  },
  {
   "cell_type": "code",
   "execution_count": 26,
   "id": "184d94b8",
   "metadata": {},
   "outputs": [
    {
     "name": "stdout",
     "output_type": "stream",
     "text": [
      "['aula', 'de', 'programação', 'e', 'o', 'diogo', 'está', 'dormindo']\n"
     ]
    }
   ],
   "source": [
    "lista = frase.split() # Divide a string em uma lista de palavras\n",
    "print(lista)"
   ]
  },
  {
   "cell_type": "code",
   "execution_count": 32,
   "id": "0311464a",
   "metadata": {},
   "outputs": [
    {
     "name": "stdout",
     "output_type": "stream",
     "text": [
      "   teste   \n"
     ]
    }
   ],
   "source": [
    "palavra = 'teste'\n",
    "print(palavra.center(11, ' '))"
   ]
  },
  {
   "cell_type": "code",
   "execution_count": 33,
   "id": "c1f39d40",
   "metadata": {},
   "outputs": [
    {
     "name": "stdout",
     "output_type": "stream",
     "text": [
      "pAlAvRA\n"
     ]
    }
   ],
   "source": [
    "palavra = 'PaLaVra'\n",
    "print(palavra.swapcase())"
   ]
  },
  {
   "cell_type": "code",
   "execution_count": 34,
   "id": "0d1addbb",
   "metadata": {},
   "outputs": [
    {
     "name": "stdout",
     "output_type": "stream",
     "text": [
      "('agora todos acordaram ', 'já', ' que está perto da hora da merenda')\n"
     ]
    }
   ],
   "source": [
    "frase = 'agora todos acordaram já que está perto da hora da merenda'\n",
    "print(frase.partition('já'))"
   ]
  }
 ],
 "metadata": {
  "kernelspec": {
   "display_name": "Python 3",
   "language": "python",
   "name": "python3"
  },
  "language_info": {
   "codemirror_mode": {
    "name": "ipython",
    "version": 3
   },
   "file_extension": ".py",
   "mimetype": "text/x-python",
   "name": "python",
   "nbconvert_exporter": "python",
   "pygments_lexer": "ipython3",
   "version": "3.11.9"
  }
 },
 "nbformat": 4,
 "nbformat_minor": 5
}
